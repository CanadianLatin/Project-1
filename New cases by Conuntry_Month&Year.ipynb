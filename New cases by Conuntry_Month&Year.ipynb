{
 "cells": [
  {
   "cell_type": "code",
   "execution_count": 20,
   "metadata": {},
   "outputs": [],
   "source": [
    "# Dependencies and Setup\n",
    "import pandas as pd\n",
    "import datetime\n",
    "import numpy as np\n"
   ]
  },
  {
   "cell_type": "code",
   "execution_count": 21,
   "metadata": {},
   "outputs": [],
   "source": [
    "#Load the data file\n",
    "covid_data = \"Resources/owid-covid-data.csv\"\n",
    "country_month_year = \"Resources/New cases by Conuntry-Month-and-Year.csv\" \n",
    "\n",
    "# Read Covid Data File and store into Pandas DataFrames\n",
    "full_data = pd.read_csv(covid_data)\n",
    "\n",
    "#creating DF country cases with only columns we need.\n",
    "country_cases = full_data[[\"iso_code\",'continent', 'location', 'date', 'new_cases']]\n",
    "\n",
    "# country_cases = full_data[['location', 'date', 'new_cases']]\n",
    "\n",
    "\n"
   ]
  },
  {
   "cell_type": "code",
   "execution_count": 22,
   "metadata": {},
   "outputs": [
    {
     "data": {
      "text/html": [
       "<div>\n",
       "<style scoped>\n",
       "    .dataframe tbody tr th:only-of-type {\n",
       "        vertical-align: middle;\n",
       "    }\n",
       "\n",
       "    .dataframe tbody tr th {\n",
       "        vertical-align: top;\n",
       "    }\n",
       "\n",
       "    .dataframe thead th {\n",
       "        text-align: right;\n",
       "    }\n",
       "</style>\n",
       "<table border=\"1\" class=\"dataframe\">\n",
       "  <thead>\n",
       "    <tr style=\"text-align: right;\">\n",
       "      <th></th>\n",
       "      <th>iso_code</th>\n",
       "      <th>continent</th>\n",
       "      <th>Month-Year</th>\n",
       "      <th>location</th>\n",
       "      <th>new_cases</th>\n",
       "    </tr>\n",
       "  </thead>\n",
       "  <tbody>\n",
       "    <tr>\n",
       "      <th>0</th>\n",
       "      <td>AFG</td>\n",
       "      <td>Asia</td>\n",
       "      <td>2020-02</td>\n",
       "      <td>Afghanistan</td>\n",
       "      <td>5.0</td>\n",
       "    </tr>\n",
       "    <tr>\n",
       "      <th>1</th>\n",
       "      <td>AFG</td>\n",
       "      <td>Asia</td>\n",
       "      <td>2020-02</td>\n",
       "      <td>Afghanistan</td>\n",
       "      <td>0.0</td>\n",
       "    </tr>\n",
       "    <tr>\n",
       "      <th>2</th>\n",
       "      <td>AFG</td>\n",
       "      <td>Asia</td>\n",
       "      <td>2020-02</td>\n",
       "      <td>Afghanistan</td>\n",
       "      <td>0.0</td>\n",
       "    </tr>\n",
       "    <tr>\n",
       "      <th>3</th>\n",
       "      <td>AFG</td>\n",
       "      <td>Asia</td>\n",
       "      <td>2020-02</td>\n",
       "      <td>Afghanistan</td>\n",
       "      <td>0.0</td>\n",
       "    </tr>\n",
       "    <tr>\n",
       "      <th>4</th>\n",
       "      <td>AFG</td>\n",
       "      <td>Asia</td>\n",
       "      <td>2020-02</td>\n",
       "      <td>Afghanistan</td>\n",
       "      <td>0.0</td>\n",
       "    </tr>\n",
       "  </tbody>\n",
       "</table>\n",
       "</div>"
      ],
      "text/plain": [
       "  iso_code continent Month-Year     location  new_cases\n",
       "0      AFG      Asia    2020-02  Afghanistan        5.0\n",
       "1      AFG      Asia    2020-02  Afghanistan        0.0\n",
       "2      AFG      Asia    2020-02  Afghanistan        0.0\n",
       "3      AFG      Asia    2020-02  Afghanistan        0.0\n",
       "4      AFG      Asia    2020-02  Afghanistan        0.0"
      ]
     },
     "execution_count": 22,
     "metadata": {},
     "output_type": "execute_result"
    }
   ],
   "source": [
    "#Inserting a Column for Month and Year\n",
    "\n",
    "# country_cases.insert(5,\"Month\", pd.DatetimeIndex(country_cases['date']).month)\n",
    "# country_cases.insert(6,\"Year\", pd.DatetimeIndex(country_cases['date']).year)\n",
    "\n",
    "\n",
    "#inserting month-year in the sa\n",
    "country_cases.insert(2,\"Month-Year\",pd.to_datetime(country_cases['date']).dt.to_period('M') )\n",
    "\n",
    "country_cases = country_cases.drop('date',axis = 1)\n",
    "\n",
    "country_cases.head()"
   ]
  },
  {
   "cell_type": "code",
   "execution_count": 23,
   "metadata": {},
   "outputs": [],
   "source": [
    "\n",
    "\n",
    "df = country_cases.groupby(['location','Month-Year'])['new_cases'].sum()\n",
    "\n",
    "# country_cases_no_date.groupby('Month-Year',as_index=False).\n",
    "# country_cases.head(20)\n",
    "\n",
    "\n",
    "df.to_csv(country_month_year)\n"
   ]
  }
 ],
 "metadata": {
  "kernelspec": {
   "display_name": "PythonData",
   "language": "python",
   "name": "python3"
  },
  "language_info": {
   "codemirror_mode": {
    "name": "ipython",
    "version": 3
   },
   "file_extension": ".py",
   "mimetype": "text/x-python",
   "name": "python",
   "nbconvert_exporter": "python",
   "pygments_lexer": "ipython3",
   "version": "3.7.7"
  },
  "orig_nbformat": 4,
  "vscode": {
   "interpreter": {
    "hash": "79a81043c2fa48ac920980ab82b76b959d8200dcec45f26bf2909bf39540556d"
   }
  }
 },
 "nbformat": 4,
 "nbformat_minor": 2
}
