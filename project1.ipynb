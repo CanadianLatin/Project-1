{
 "cells": [
  {
   "cell_type": "code",
   "execution_count": null,
   "metadata": {},
   "outputs": [],
   "source": [
    "# Dependencies\n",
    "from census import Census\n",
    "import hvplot.pandas\n",
    "import pandas as pd\n",
    "import requests\n",
    "import time\n",
    "from scipy.stats import linregress\n",
    "from matplotlib import pyplot as plt\n",
    "import wbdata\n",
    "\n",
    "\n",
    "# Turn off warning messages\n",
    "import warnings\n",
    "warnings.filterwarnings(\"ignore\")\n",
    "\n",
    "\n",
    "\n"
   ]
  },
  {
   "cell_type": "code",
   "execution_count": null,
   "metadata": {},
   "outputs": [],
   "source": [
    "# Importing data from Stats Canada\n",
    "csv_url = \"Resources/owid-covid-data.csv\"\n",
    "covid_data = pd.read_csv(csv_url)\n",
    "covid_data.columns\n"
   ]
  },
  {
   "cell_type": "code",
   "execution_count": null,
   "metadata": {},
   "outputs": [],
   "source": [
    "# Filtering DataFrame by columns of interest\n",
    "clean_covid_data = covid_data.loc[covid_data['iso_code'].str.contains('OWID_')==False, ['iso_code', 'location', 'date', 'new_cases',  'new_deaths',  'new_cases_per_million',  'new_deaths_per_million',\n",
    "                                      'icu_patients',\n",
    "                                      'icu_patients_per_million', 'hosp_patients_per_million', 'new_tests_per_thousand',\n",
    "                                      'positive_rate', 'people_vaccinated_per_hundred',\n",
    "                                      'people_fully_vaccinated_per_hundred', 'stringency_index',\n",
    "                                      'population_density', 'median_age',\n",
    "                                      'gdp_per_capita', 'extreme_poverty', 'human_development_index', 'population']]\n",
    "\n",
    "\n",
    "# Creating a list of columns to sum and calculate mean\n",
    "\n",
    "sum_columns_list = ['new_cases',  'new_deaths',\n",
    "                    'new_cases_per_million',  'new_deaths_per_million']\n",
    "mean_columns_list = ['icu_patients','icu_patients_per_million','hosp_patients_per_million']                              \n",
    "\n",
    "# Converting NaN to 0\n",
    "clean_covid_data = clean_covid_data.fillna(0)\n",
    "\n",
    "# Display DF\n",
    "clean_covid_data.head(10)\n"
   ]
  },
  {
   "cell_type": "code",
   "execution_count": null,
   "metadata": {},
   "outputs": [],
   "source": [
    "\n",
    "# Creating a new column for Month-Year\n",
    "clean_covid_data.insert(3,\"month_year\",pd.to_datetime(clean_covid_data['date']).dt.to_period('M') )\n",
    "clean_covid_data_no_date = clean_covid_data.drop('date',axis = 1)\n",
    "\n",
    "# Display DF\n",
    "clean_covid_data_no_date.head(10)"
   ]
  },
  {
   "cell_type": "code",
   "execution_count": null,
   "metadata": {},
   "outputs": [],
   "source": [
    "iso_codes = clean_covid_data_no_date['iso_code'].unique()\n",
    "iso_codes"
   ]
  },
  {
   "cell_type": "code",
   "execution_count": null,
   "metadata": {},
   "outputs": [],
   "source": [
    "# Creating a DataFrame grouping by Month-Year and Country and adding the columns for sums and average\n",
    "\n",
    "df_sum = clean_covid_data_no_date.groupby(['iso_code', 'month_year'])[\n",
    "    sum_columns_list].sum()\n",
    "\n",
    "\n",
    "\n",
    "df_sum = df_sum.rename(columns={\"new_cases\":\"sum_new_cases\",'new_deaths':'sum_new_deaths', 'new_cases_per_million': 'sum_new_cases_per_million'\\\n",
    "                        , 'new_deaths_per_million': 'sum_new_deaths_per_million' })\n",
    "                      \n",
    "\n",
    "df_mean = clean_covid_data_no_date.groupby(['iso_code', 'month_year'])[\n",
    "    mean_columns_list].mean()\n",
    "\n",
    "\n",
    "df_mean = df_mean.rename(columns={'icu_patients': 'average_icu_patients',\n",
    "                    'icu_patients_per_million': 'average_icu_patients_per_million','hosp_patients_per_million':'average_hosp_patients_per_million'})\n",
    "\n",
    "\n",
    "df_clean_data = pd.merge(df_sum, df_mean, on=['iso_code', 'month_year'])\n",
    "\n",
    "df_clean_data\n",
    "\n"
   ]
  },
  {
   "cell_type": "code",
   "execution_count": null,
   "metadata": {},
   "outputs": [],
   "source": [
    "# Create a DataFrame for Static Columns\n",
    "totals_list=['stringency_index','population_density', 'median_age',\n",
    "                                      'gdp_per_capita', 'extreme_poverty', 'human_development_index', 'population']\n",
    "df_totals = clean_covid_data_no_date.groupby(\n",
    "    ['iso_code'])[totals_list].mean()\n",
    "\n",
    "# Converting population to Int\n",
    "df_totals['population'] = df_totals['population'].astype(int)\n",
    "\n",
    "df_totals\n"
   ]
  },
  {
   "attachments": {},
   "cell_type": "markdown",
   "metadata": {},
   "source": [
    "#John Will do this:\n",
    "\n"
   ]
  },
  {
   "cell_type": "code",
   "execution_count": null,
   "metadata": {},
   "outputs": [],
   "source": [
    "wbdata.getGdpData()"
   ]
  },
  {
   "attachments": {},
   "cell_type": "markdown",
   "metadata": {},
   "source": [
    "Gus will do this"
   ]
  },
  {
   "cell_type": "code",
   "execution_count": null,
   "metadata": {},
   "outputs": [],
   "source": [
    "# Creating dataframe from World Bank API JSON\n",
    "gdp = wbdata.getGdpData()\n",
    "gdp = [entry for entry in gdp if int(entry['date']) > 2018]\n",
    "gdp_df = pd.DataFrame.from_dict(gdp)\n",
    "gdp_by_year = gdp_df[['countryiso3code', 'date', 'value']]\n",
    "gdp_by_year = gdp_by_year.rename(columns={'countryiso3code': 'country'})\n",
    "\n",
    "# Fillining NaN with 0\n",
    "gdp_by_year = gdp_by_year.fillna(0)\n",
    "\n",
    "# Using .pivot_table\n",
    "gdp_by_year = gdp_by_year.pivot_table(\n",
    "    values='value', index='country', columns='date', aggfunc='first')\n",
    "\n",
    "gdp_by_year = gdp_by_year.reset_index()\n",
    "\n",
    "gdp_by_year = gdp_by_year[gdp_by_year['country'].isin(iso_codes)]\n",
    "\n",
    "gdp_2019 = gdp_by_year.loc[:,['country', '2019']]\n",
    "gdp_2019 = gdp_2019.loc[gdp_2019['2019']>0]\n",
    "# gdp_2019 = gdp_2019.drop(index=0)\n",
    "\n",
    "\n",
    "gdp_head = gdp_2019.sort_values(by='2019').head()\n",
    "gdp_tail = gdp_2019.sort_values(by='2019').tail()\n",
    "\n",
    "\n",
    "## Make this into a function to calculate other years\n",
    "\n",
    "\n",
    "gdp_tail\n"
   ]
  }
 ],
 "metadata": {
  "kernelspec": {
   "display_name": "PythonData",
   "language": "python",
   "name": "python3"
  },
  "language_info": {
   "codemirror_mode": {
    "name": "ipython",
    "version": 3
   },
   "file_extension": ".py",
   "mimetype": "text/x-python",
   "name": "python",
   "nbconvert_exporter": "python",
   "pygments_lexer": "ipython3",
   "version": "3.7.7"
  },
  "orig_nbformat": 4,
  "vscode": {
   "interpreter": {
    "hash": "aa1e06bae1eed367078949428fdb8aace2063e52e8cfbde49adf3749898a7ed3"
   }
  }
 },
 "nbformat": 4,
 "nbformat_minor": 2
}
