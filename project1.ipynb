{
 "cells": [
  {
   "attachments": {},
   "cell_type": "markdown",
   "metadata": {},
   "source": [
    "Important Dataframes and files:\n",
    "\n",
    "- owid-covid-data.csv:This file located in the folder resources contains all the COVID Data downloaded from \n",
    "                              <a href=\"https://github.com/owid/covid-19-data/tree/master/public/data \"> Our World in Data </a> \n",
    "- clean_covid_data:         Contains only the columns we thing we need from the covid data source csv file\n",
    "- clean_covid_data_no_date: Similar to clean_covid_data. The Date in this DF now is group by Month and Year and by Country  \n",
    "- df_clean_data:                 \n",
    "- gdp_by_year: Iso of the countries and GDP for 2019, 2020, 221    \n",
    "- covid_and_gdp: Contains a merge between gdp_by_year,df_clean_data on the ISO country"
   ]
  },
  {
   "cell_type": "code",
   "execution_count": null,
   "metadata": {},
   "outputs": [],
   "source": [
    "# Dependencies\n",
    "from census import Census\n",
    "import hvplot.pandas\n",
    "import pandas as pd\n",
    "import requests\n",
    "import time\n",
    "from scipy.stats import linregress\n",
    "from matplotlib import pyplot as plt\n",
    "import wbdata\n",
    "\n",
    "\n",
    "# Turn off warning messages\n",
    "import warnings\n",
    "warnings.filterwarnings(\"ignore\")\n",
    "\n",
    "\n",
    "\n"
   ]
  },
  {
   "cell_type": "code",
   "execution_count": null,
   "metadata": {},
   "outputs": [],
   "source": [
    "# Importing data from Stats Canada\n",
    "csv_url = \"Resources/owid-covid-data.csv\"\n",
    "covid_data = pd.read_csv(csv_url)\n",
    "covid_data.columns\n"
   ]
  },
  {
   "cell_type": "code",
   "execution_count": null,
   "metadata": {},
   "outputs": [],
   "source": [
    "# Filtering DataFrame by columns of interest\n",
    "clean_covid_data = covid_data.loc[covid_data['iso_code'].str.contains('OWID_')==False, ['iso_code', 'location', 'date', 'new_cases',  'new_deaths',  'new_cases_per_million',  'new_deaths_per_million',\n",
    "                                      'icu_patients',\n",
    "                                      'icu_patients_per_million', 'hosp_patients_per_million', 'new_tests_per_thousand',\n",
    "                                      'positive_rate', 'people_vaccinated_per_hundred',\n",
    "                                      'people_fully_vaccinated_per_hundred', 'stringency_index',\n",
    "                                      'population_density', 'median_age',\n",
    "                                      'gdp_per_capita', 'extreme_poverty', 'human_development_index', 'population']]\n",
    "\n",
    "\n",
    "# Creating a list of columns to sum and calculate mean\n",
    "\n",
    "sum_columns_list = ['new_cases',  'new_deaths',\n",
    "                    'new_cases_per_million',  'new_deaths_per_million']\n",
    "mean_columns_list = ['icu_patients','icu_patients_per_million','hosp_patients_per_million']                              \n",
    "\n",
    "# Converting NaN to 0\n",
    "clean_covid_data = clean_covid_data.fillna(0)\n",
    "\n",
    "# Display DF\n",
    "clean_covid_data.head(10)\n"
   ]
  },
  {
   "cell_type": "code",
   "execution_count": null,
   "metadata": {},
   "outputs": [],
   "source": [
    "\n",
    "# Creating a new column for Month-Year\n",
    "clean_covid_data.insert(3,\"month_year\",pd.to_datetime(clean_covid_data['date']).dt.to_period('M') )\n",
    "clean_covid_data_no_date = clean_covid_data.drop('date',axis = 1)\n",
    "\n",
    "# Display DF\n",
    "clean_covid_data_no_date.head(10)"
   ]
  },
  {
   "cell_type": "code",
   "execution_count": null,
   "metadata": {},
   "outputs": [],
   "source": [
    "iso_codes = clean_covid_data_no_date['iso_code'].unique()\n",
    "iso_codes"
   ]
  },
  {
   "cell_type": "code",
   "execution_count": null,
   "metadata": {},
   "outputs": [],
   "source": [
    "# Creating a DataFrame grouping by Month-Year and Country and adding the columns for sums and average\n",
    "\n",
    "df_sum = clean_covid_data_no_date.groupby(['iso_code', 'month_year'])[\n",
    "    sum_columns_list].sum()\n",
    "\n",
    "\n",
    "\n",
    "df_sum = df_sum.rename(columns={\"new_cases\":\"sum_new_cases\",'new_deaths':'sum_new_deaths', 'new_cases_per_million': 'sum_new_cases_per_million'\\\n",
    "                        , 'new_deaths_per_million': 'sum_new_deaths_per_million' })\n",
    "                      \n",
    "\n",
    "df_mean = clean_covid_data_no_date.groupby(['iso_code', 'month_year'])[\n",
    "    mean_columns_list].mean()\n",
    "\n",
    "\n",
    "df_mean = df_mean.rename(columns={'icu_patients': 'average_icu_patients',\n",
    "                    'icu_patients_per_million': 'average_icu_patients_per_million','hosp_patients_per_million':'average_hosp_patients_per_million'})\n",
    "\n",
    "\n",
    "df_clean_data = pd.merge(df_sum, df_mean, on=['iso_code', 'month_year'])\n",
    "\n",
    "df_clean_data\n",
    "\n"
   ]
  },
  {
   "cell_type": "code",
   "execution_count": null,
   "metadata": {},
   "outputs": [],
   "source": [
    "# Create a DataFrame for Static Columns\n",
    "totals_list=['stringency_index','population_density', 'median_age',\n",
    "                                      'gdp_per_capita', 'extreme_poverty', 'human_development_index', 'population']\n",
    "df_totals = clean_covid_data_no_date.groupby(\n",
    "    ['iso_code'])[totals_list].mean()\n",
    "\n",
    "# Converting population to Int\n",
    "df_totals['population'] = df_totals['population'].astype(int)\n",
    "\n",
    "df_totals\n"
   ]
  },
  {
   "cell_type": "code",
   "execution_count": null,
   "metadata": {},
   "outputs": [],
   "source": [
    "wbdata.getGdpData()"
   ]
  },
  {
   "cell_type": "code",
   "execution_count": null,
   "metadata": {},
   "outputs": [],
   "source": [
    "# Creating dataframe from World Bank API JSON\n",
    "gdp = wbdata.getGdpData()\n",
    "gdp = [entry for entry in gdp if int(entry['date']) > 2018]\n",
    "gdp_df = pd.DataFrame.from_dict(gdp)\n",
    "gdp_by_year = gdp_df[['countryiso3code', 'date', 'value']]\n",
    "gdp_by_year = gdp_by_year.rename(columns={'countryiso3code': 'iso_code'})\n",
    "\n",
    "# Fillining NaN with 0\n",
    "gdp_by_year = gdp_by_year.fillna(0)\n",
    "\n",
    "# Using .pivot_table\n",
    "gdp_by_year = gdp_by_year.pivot_table(\n",
    "    values='value', index='iso_code', columns='date', aggfunc='first')\n",
    "\n",
    "gdp_by_year = gdp_by_year.reset_index()\n",
    "\n",
    "gdp_by_year = gdp_by_year[gdp_by_year['iso_code'].isin(iso_codes)]\n",
    "\n",
    "print(gdp_by_year)\n",
    "\n",
    "gdp_2019 = gdp_by_year.loc[:,['iso_code', '2019']]\n",
    "gdp_2019 = gdp_2019.loc[gdp_2019['2019']>0]\n",
    "# gdp_2019 = gdp_2019.drop(index=0)\n",
    "\n",
    "\n",
    "gdp_head = gdp_2019.sort_values(by='2019').head()\n",
    "gdp_tail = gdp_2019.sort_values(by='2019').tail()\n",
    "\n",
    "\n",
    "## Make this into a function to calculate other years\n",
    "\n",
    "\n",
    "# gdp_tail\n"
   ]
  },
  {
   "cell_type": "code",
   "execution_count": null,
   "metadata": {},
   "outputs": [],
   "source": [
    "## Combining Covid Data and world bank GDP \n",
    "\n",
    "\n",
    "covid_and_gdp= pd.merge(gdp_by_year,df_clean_data, how='outer', on='iso_code')\n",
    "\n",
    "covid_and_gdp.to_csv(\"covid_and_gdp.csv\")\n",
    "\n",
    "covid_and_gdp\n",
    "\n",
    "\n"
   ]
  }
 ],
 "metadata": {
  "kernelspec": {
   "display_name": "PythonData",
   "language": "python",
   "name": "python3"
  },
  "language_info": {
   "codemirror_mode": {
    "name": "ipython",
    "version": 3
   },
   "file_extension": ".py",
   "mimetype": "text/x-python",
   "name": "python",
   "nbconvert_exporter": "python",
   "pygments_lexer": "ipython3",
   "version": "3.7.7"
  },
  "orig_nbformat": 4,
  "vscode": {
   "interpreter": {
    "hash": "79a81043c2fa48ac920980ab82b76b959d8200dcec45f26bf2909bf39540556d"
   }
  }
 },
 "nbformat": 4,
 "nbformat_minor": 2
}
